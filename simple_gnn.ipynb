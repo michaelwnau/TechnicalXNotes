{
  "nbformat": 4,
  "nbformat_minor": 0,
  "metadata": {
    "colab": {
      "private_outputs": true,
      "provenance": [],
      "authorship_tag": "ABX9TyMeudg0xAP0WuRbKD7T2BVA",
      "include_colab_link": true
    },
    "kernelspec": {
      "name": "python3",
      "display_name": "Python 3"
    },
    "language_info": {
      "name": "python"
    }
  },
  "cells": [
    {
      "cell_type": "markdown",
      "metadata": {
        "id": "view-in-github",
        "colab_type": "text"
      },
      "source": [
        "<a href=\"https://colab.research.google.com/github/michaelwnau/TechnicalxNotes/blob/main/simple_gnn.ipynb\" target=\"_parent\"><img src=\"https://colab.research.google.com/assets/colab-badge.svg\" alt=\"Open In Colab\"/></a>"
      ]
    },
    {
      "cell_type": "code",
      "execution_count": null,
      "metadata": {
        "id": "eBafzqUNM4yk"
      },
      "outputs": [],
      "source": [
        "# Import NetworkX, Matplotlib, and Numpy\n",
        "import networkx as nx\n",
        "import matplotlib.pyplot as plt\n",
        "import numpy as np\n"
      ]
    },
    {
      "cell_type": "code",
      "source": [
        "# Create a simple graph using NetworkX\n",
        "G = nx.Graph()\n",
        "edges = [(1, 2), (1, 3), (2, 4), (3, 4), (4, 5)]\n",
        "G.add_edges_from(edges)"
      ],
      "metadata": {
        "id": "XPjMjaM0M7Yu"
      },
      "execution_count": null,
      "outputs": []
    },
    {
      "cell_type": "code",
      "source": [
        "# Generate positions for each node for plotting\n",
        "pos = nx.spring_layout(G)"
      ],
      "metadata": {
        "id": "S8n3tQkWM8Mc"
      },
      "execution_count": null,
      "outputs": []
    },
    {
      "cell_type": "code",
      "source": [
        "# Draw the graph\n",
        "plt.figure(figsize=(8, 6))\n",
        "nx.draw(G, pos, with_labels=True, node_color='skyblue', node_size=700, edge_color='black')\n",
        "plt.title(\"Basic Graph Neural Network\")\n",
        "plt.show()"
      ],
      "metadata": {
        "id": "jiWzFljgNBX6"
      },
      "execution_count": null,
      "outputs": []
    },
    {
      "cell_type": "code",
      "source": [],
      "metadata": {
        "id": "9-r4MhDTNTz8"
      },
      "execution_count": null,
      "outputs": []
    },
    {
      "cell_type": "markdown",
      "source": [
        "# **Graph Neural Network**\n",
        "The graph illustrates nodes connected by edges, representing the fundamental structure upon which GNNs operate. Each node could represent data points or entities, while edges signify the relationships or interactions between them. This foundational structure enables GNNs to process and learn from graph-structured data."
      ],
      "metadata": {
        "id": "YWlHEWyQNWgA"
      }
    }
  ]
}